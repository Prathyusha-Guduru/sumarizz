{
 "cells": [
  {
   "cell_type": "code",
   "execution_count": 6,
   "id": "f483c55e",
   "metadata": {},
   "outputs": [],
   "source": [
    "import pandas as pd"
   ]
  },
  {
   "cell_type": "code",
   "execution_count": 14,
   "id": "abe84e6f",
   "metadata": {},
   "outputs": [],
   "source": [
    "path = \"articles.csv\"\n",
    "df = pd.read_csv(path)"
   ]
  },
  {
   "cell_type": "code",
   "execution_count": 18,
   "id": "8acada04",
   "metadata": {},
   "outputs": [
    {
     "data": {
      "text/plain": [
       "36770"
      ]
     },
     "execution_count": 18,
     "metadata": {},
     "output_type": "execute_result"
    }
   ],
   "source": [
    "len(df.iloc[0]['article'])"
   ]
  }
 ],
 "metadata": {
  "kernelspec": {
   "display_name": "multimodal-systems",
   "language": "python",
   "name": "python3"
  },
  "language_info": {
   "codemirror_mode": {
    "name": "ipython",
    "version": 3
   },
   "file_extension": ".py",
   "mimetype": "text/x-python",
   "name": "python",
   "nbconvert_exporter": "python",
   "pygments_lexer": "ipython3",
   "version": "3.9.21"
  }
 },
 "nbformat": 4,
 "nbformat_minor": 5
}
